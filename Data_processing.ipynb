{
 "cells": [
  {
   "cell_type": "markdown",
   "metadata": {},
   "source": [
    "**CONTEXT**\n",
    "L’entreprise pharmaceutique HumanForYou, située en Inde, emploie environ 4 000 personnes mais doit faire face à un taux de turn-over annuel de 15%, impactant son fonctionnement de plusieurs manières :\n",
    "\n",
    "-Retards de projets nuisibles à la réputation de l’entreprise auprès des clients et partenaires.\n",
    "-Charge importante sur les ressources humaines, nécessitant un service conséquent pour recruter de nouveaux talents.\n",
    "-Perte de productivité en raison du temps nécessaire à la formation et à l’intégration des nouveaux employés.\n",
    "-L’objectif est de comprendre les facteurs clés influençant ce taux de turn-over et de proposer des modèles prédictifs et des stratégies concrètes pour réduire ce phénomène.\n",
    "\n",
    "les etapes du projet : Données brutes > Données structurés (Catégorielle & Numérique) > input > Deeplearning / AI > produit (^y)"
   ]
  },
  {
   "cell_type": "code",
   "execution_count": null,
   "metadata": {
    "vscode": {
     "languageId": "plaintext"
    }
   },
   "outputs": [],
   "source": []
  }
 ],
 "metadata": {
  "language_info": {
   "name": "python"
  }
 },
 "nbformat": 4,
 "nbformat_minor": 2
}
