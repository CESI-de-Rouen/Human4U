{
 "cells": [
  {
   "cell_type": "markdown",
   "metadata": {},
   "source": [
    "**CONTEXT**\n",
    "L’entreprise pharmaceutique HumanForYou, située en Inde, emploie environ 4 000 personnes mais doit faire face à un taux de turn-over annuel de 15%, impactant son fonctionnement de plusieurs manières :\n",
    "\n",
    "-Retards de projets nuisibles à la réputation de l’entreprise auprès des clients et partenaires.\n",
    "-Charge importante sur les ressources humaines, nécessitant un service conséquent pour recruter de nouveaux talents.\n",
    "-Perte de productivité en raison du temps nécessaire à la formation et à l’intégration des nouveaux employés.\n",
    "-L’objectif est de comprendre les facteurs clés influençant ce taux de turn-over et de proposer des modèles prédictifs et des stratégies concrètes pour réduire ce phénomène.\n",
    "\n",
    "les etapes du projet : Données brutes > Données structurés (Catégorielle & Numérique) > input > Deeplearning / AI > produit (^y)"
   ]
  },
  {
   "cell_type": "markdown",
   "metadata": {},
   "source": []
  },
  {
   "cell_type": "code",
   "execution_count": null,
   "metadata": {},
   "outputs": [],
   "source": [
    "# Import necessary libraries\n",
    "import pandas as pd\n",
    "import numpy as np\n",
    "\n",
    "# Load datasets\n",
    "general_data = pd.read_csv(\"general_data.csv\")\n",
    "manager_survey_data = pd.read_csv(\"manager_survey_data.csv\")\n",
    "employee_survey_data = pd.read_csv(\"employee_survey_data.csv\")\n",
    "in_out_time = pd.read_csv(\"in_out_time.csv\")\n"
   ]
  }
 ],
 "metadata": {
  "kernelspec": {
   "display_name": "Python 3",
   "language": "python",
   "name": "python3"
  },
  "language_info": {
   "name": "python",
   "version": "3.12.3"
  }
 },
 "nbformat": 4,
 "nbformat_minor": 2
}
